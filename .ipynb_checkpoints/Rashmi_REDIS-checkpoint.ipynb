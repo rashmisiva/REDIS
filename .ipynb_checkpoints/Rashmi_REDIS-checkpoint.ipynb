{
 "cells": [
  {
   "cell_type": "code",
   "execution_count": 25,
   "metadata": {},
   "outputs": [
    {
     "data": {
      "text/plain": [
       "True"
      ]
     },
     "execution_count": 25,
     "metadata": {},
     "output_type": "execute_result"
    }
   ],
   "source": [
    "import redis \n",
    "import json\n",
    "from geopy.geocoders import Nominatim\n",
    "#import geopy.geocoders import Nominatim \n",
    "# https://redis-py.readthedocs.io/en/latest/\n",
    "# connect to redis running on localhost machine on its default port 6379\n",
    "#\n",
    "REDIS_HOST = \"localhost\"\n",
    "REDIS_PORT = 6379\n",
    "\n",
    "REDIS = redis.Redis(host=REDIS_HOST, port=REDIS_PORT)\n",
    "\n",
    "# test the connection\n",
    "REDIS.ping()"
   ]
  },
  {
   "cell_type": "code",
   "execution_count": 26,
   "metadata": {},
   "outputs": [
    {
     "name": "stdout",
     "output_type": "stream",
     "text": [
      "b'ex_key_value'\n",
      "[b'ex_key']\n",
      "[]\n"
     ]
    }
   ],
   "source": [
    "# set/get/del basic key:value pairs \n",
    "#Example 1\n",
    "REDIS.set(\"ex_key\", \"ex_key_value\") # new key:value\n",
    "print(REDIS.get(\"ex_key\"))    # see the value\n",
    "print(REDIS.keys(\"ex_*\"))     # see all keys beginning with EXAMPLE_*\n",
    "REDIS.delete(\"ex_key\")       # delete the key\n",
    "print(REDIS.keys(\"ex_*\"))     # see its gone"
   ]
  },
  {
   "cell_type": "code",
   "execution_count": 27,
   "metadata": {},
   "outputs": [
    {
     "name": "stdout",
     "output_type": "stream",
     "text": [
      "[b'x']\n",
      "{b'a': b'x', b'b': b'y', b'c': b'123.45'}\n",
      "{b'1': b'Cheesecake', b'2': b'Apple Pie'}\n",
      "{b'2': b'Apple Pie'}\n",
      "Does the key 1, exists:\n",
      "True\n",
      "Before deletion of a key:\n",
      "{b'1': b'The C Programming Language', b'2': b'The UNIX Programming Environment'}\n",
      "After deletion of a key:\n",
      "{b'2': b'The UNIX Programming Environment'}\n"
     ]
    },
    {
     "data": {
      "text/plain": [
       "True"
      ]
     },
     "execution_count": 27,
     "metadata": {},
     "output_type": "execute_result"
    }
   ],
   "source": [
    "# hash data types are basically redis dictionaries stored by key \n",
    "#Example 2\n",
    "data = {\"a\" : \"x\", \"b\": \"y\", \"c\": 123.45}\n",
    "REDIS.hmset(\"ex_hash\", data)  # create a new hash named EXAMPLE_HASH \n",
    "print(REDIS.hmget(\"ex_hash\", \"a\"))   # get single key from hash\n",
    "print(REDIS.hgetall(\"ex_hash\"))     # get all keys from hash\n",
    "\n",
    "# note that types get converted to strings:\n",
    "type(REDIS.hmget(\"ex_hash\", \"c\")) != type(data[\"c\"])\n",
    "\n",
    "#Example 3\n",
    "# Add key value pairs to the Redis hash\n",
    "hashName = \"Dessert\"\n",
    "REDIS.hset(hashName, 1, \"Cheesecake\")\n",
    "REDIS.hset(hashName, 2, \"Apple Pie\")\n",
    "print(REDIS.hgetall(hashName)) # Print the hash\n",
    "REDIS.hdel(hashName, 1) # Remove a key\n",
    "print(REDIS.hgetall(hashName))# Print the hash after removing a key\n",
    "\n",
    "#Example 4\n",
    "hashName = \"Authors\"\n",
    "REDIS.hmset(hashName,{1:\"The C Programming Language\", 2:\"The UNIX Programming Environment\"})\n",
    "key = 1 # Check if a key exists in a Redis key\n",
    "print(\"Does the key {}, exists:\".format(key))\n",
    "print(REDIS.hexists(hashName, key))\n",
    "print(\"Before deletion of a key:\") # Print the key before a key-value is removed\n",
    "print(REDIS.hgetall(hashName))\n",
    "REDIS.hdel(hashName, key) # Remove a key\n",
    "print(\"After deletion of a key:\")# Print the key after a key-value is removed\n",
    "print(REDIS.hgetall(hashName))\n",
    "REDIS.hmset(hashName, {1:\"The C Programming Language\", 2:\"The UNIX Programming Environment\"})\n"
   ]
  },
  {
   "cell_type": "code",
   "execution_count": 28,
   "metadata": {},
   "outputs": [
    {
     "name": "stdout",
     "output_type": "stream",
     "text": [
      "{b'3', b'0', b'1', b'2', b'4'}\n",
      "{b'3', b'0', b'1', b'2', b'4'}\n",
      "5\n"
     ]
    },
    {
     "data": {
      "text/plain": [
       "1"
      ]
     },
     "execution_count": 28,
     "metadata": {},
     "output_type": "execute_result"
    }
   ],
   "source": [
    "# set data \n",
    "#Example 4\n",
    "values = range(5)\n",
    "REDIS.sadd(\"ex_set\", *values)   # add values\n",
    "print(REDIS.smembers(\"ex_set\")) # get set members \n",
    "REDIS.sadd(\"ex_set\", *[1, 1, 2, 2])  # add duplicate values (already members)\n",
    "print(REDIS.smembers(\"ex_set\"))      # set remains same\n",
    "print(REDIS.scard(\"ex_set\"))          # number of members of set\n",
    "\n",
    "REDIS.delete(\"ex_set\")"
   ]
  },
  {
   "cell_type": "code",
   "execution_count": 29,
   "metadata": {},
   "outputs": [
    {
     "name": "stdout",
     "output_type": "stream",
     "text": [
      "{'name': 'Ravagh', 'type': 'Persian', 'address': {'street': {'line1': '11 E 30th St', 'line2': 'APT 1'}, 'city': 'New York', 'state': 'NY', 'zip': 10016}}\n"
     ]
    }
   ],
   "source": [
    "# json data\n",
    "#Example 5\n",
    "restaurant_484272 = {\n",
    "    \"name\": \"Ravagh\",\n",
    "    \"type\": \"Persian\",\n",
    "    \"address\": {\n",
    "        \"street\": {\n",
    "            \"line1\": \"11 E 30th St\",\n",
    "            \"line2\": \"APT 1\",\n",
    "        },\n",
    "        \"city\": \"New York\",\n",
    "        \"state\": \"NY\",\n",
    "        \"zip\": 10016,\n",
    "    }\n",
    "}\n",
    "REDIS.set(484272, json.dumps(restaurant_484272))\n",
    "print(json.loads(REDIS.get(484272)))\n"
   ]
  },
  {
   "cell_type": "code",
   "execution_count": 30,
   "metadata": {},
   "outputs": [
    {
     "name": "stdout",
     "output_type": "stream",
     "text": [
      "b'484272:address:city'             b'New York'    \n",
      "b'484272:address:state'            b'NY'          \n",
      "b'484272:address:street:line1'     b'11 E 30th St'\n",
      "b'484272:address:street:line2'     b'APT 1'       \n",
      "b'484272:address:zip'              b'10016'       \n",
      "b'484272:name'                     b'Ravagh'      \n",
      "b'484272:type'                     b'Persian'     \n"
     ]
    }
   ],
   "source": [
    "#serialize keys\n",
    "#Example 5\n",
    "from collections.abc import MutableMapping\n",
    "def setflat_skeys(\n",
    "    r: redis.Redis,\n",
    "    obj: dict,\n",
    "    prefix: str,\n",
    "    delim: str = \":\",\n",
    "    *,\n",
    "    _autopfix=\"\"\n",
    ") -> None: \n",
    "    allowed_vtypes = (str, bytes, float, int)\n",
    "#Flatten `obj` and set resulting field-value pairs into `r`.\n",
    "#Calls `.set()` to write to Redis instance inplace and returns None.\n",
    "#`prefix` is an optional str that prefixes all keys.\n",
    "#`delim` is the delimiter that separates the joined, flattened keys.\n",
    "#`_autopfix` is used in recursive calls to created de-nested keys.\n",
    "#The deepest-nested keys must be str, bytes, float, or int.\n",
    "#Otherwise a TypeError is raised.\n",
    "    for key, value in obj.items():\n",
    "        key = _autopfix + key\n",
    "        if isinstance(value, allowed_vtypes):\n",
    "            r.set(f\"{prefix}{delim}{key}\", value)\n",
    "        elif isinstance(value, MutableMapping):\n",
    "            setflat_skeys(r, value, prefix, delim, _autopfix=f\"{key}{delim}\")\n",
    "        else:\n",
    "            raise TypeError(f\"Unsupported value type: {type(value)}\")\n",
    "REDIS.flushdb()  # Flush database: clear old entries\n",
    "setflat_skeys(REDIS, restaurant_484272, 484272)\n",
    "\n",
    "for key in sorted(REDIS.keys(\"484272*\")):  # Filter to this pattern\n",
    "    print(f\"{repr(key):35}{repr(REDIS.get(key)):15}\")"
   ]
  },
  {
   "cell_type": "code",
   "execution_count": 31,
   "metadata": {},
   "outputs": [
    {
     "name": "stdout",
     "output_type": "stream",
     "text": [
      "b'value'\n",
      "0\n"
     ]
    }
   ],
   "source": [
    "# expriry of keys\n",
    "#Example 6\n",
    "import time\n",
    "REDIS.set(\"EXAMPLE_EXPIRY_KEY\", \"value\") # create a key\n",
    "print(REDIS.get(\"EXAMPLE_EXPIRY_KEY\"))    # verify it is present  \n",
    "REDIS.expire(\"EXAMPLE_EXPIRY_KEY\", 1)    # set it to expire in 1 second\n",
    "time.sleep(2)                            # wait 2 seconds\n",
    "print(REDIS.exists(\"EXAMPLE_EXPIRY_KEY\")) # key no longer exists"
   ]
  },
  {
   "cell_type": "markdown",
   "metadata": {},
   "source": [
    "# ANSWER 1:"
   ]
  },
  {
   "cell_type": "code",
   "execution_count": 1,
   "metadata": {},
   "outputs": [],
   "source": [
    "# create json entries\n",
    "\n",
    "def create_entry(dictionary):\n",
    " \n",
    "    reviews_dict = {\"%d\"%i:{\"source\": dic[\"source\"],\n",
    "                            \"rating\": dic[\"rating\"]}\n",
    "                   for i, dic in enumerate(dictionary['reviews'], 1)}\n",
    "    \n",
    "    coords_dict = {\"1\": dictionary['location']['coord']['coordinates'][0],\n",
    "                   \"2\": dictionary['location']['coord']['coordinates'][1]}\n",
    "    \n",
    "    return {'category': dictionary['category'],\n",
    "            'reviews': reviews_dict,\n",
    "            'location': {\"coord\" : {\"coordinates\": coords_dict}},\n",
    "            'name': dictionary['name']\n",
    "            }\n"
   ]
  },
  {
   "cell_type": "code",
   "execution_count": 9,
   "metadata": {},
   "outputs": [],
   "source": [
    "import json \n",
    "dictionary = []\n",
    "for f in open(r\"C:\\Users\\Rashmi Rajagopalan\\Redis\\data\\tourPedia_paris.json\", \"rb\"):\n",
    "    dictionary.append(json.loads(f))\n",
    "    "
   ]
  },
  {
   "cell_type": "code",
   "execution_count": 10,
   "metadata": {},
   "outputs": [],
   "source": [
    "de = dictionary[1]\n",
    "new_entry = create_entry(de)"
   ]
  },
  {
   "cell_type": "code",
   "execution_count": null,
   "metadata": {},
   "outputs": [],
   "source": [
    "de "
   ]
  },
  {
   "cell_type": "code",
   "execution_count": 33,
   "metadata": {},
   "outputs": [
    {
     "name": "stdout",
     "output_type": "stream",
     "text": [
      "{'category': 'restaurant', 'reviews': {'1': {'source': 'Foursquare', 'rating': 0}, '2': {'source': 'Foursquare', 'rating': 0}, '3': {'source': 'Foursquare', 'rating': 0}, '4': {'source': 'Foursquare', 'rating': 0}, '5': {'source': 'Foursquare', 'rating': 0}, '6': {'source': 'Foursquare', 'rating': 0}, '7': {'source': 'Foursquare', 'rating': 0}, '8': {'source': 'Foursquare', 'rating': 0}, '9': {'source': 'Foursquare', 'rating': 0}}, 'location': {'coord': {'coordinates': {'1': 2.277925, '2': 48.851513}}}, 'name': 'Zebra Square'}\n"
     ]
    }
   ],
   "source": [
    "# Make redis entry\n",
    "identity = de['_id']\n",
    "REDIS.set(identity, json.dumps(new_entry))\n",
    "print(json.loads(REDIS.get(identity)))"
   ]
  },
  {
   "cell_type": "code",
   "execution_count": 34,
   "metadata": {},
   "outputs": [
    {
     "name": "stdout",
     "output_type": "stream",
     "text": [
      "b'83622:category'                  b'restaurant'  \n",
      "b'83622:location:coord:coordinates:1'b'2.277925'    \n",
      "b'83622:location:coord:coordinates:2'b'48.851513'   \n",
      "b'83622:name'                      b'Zebra Square'\n",
      "b'83622:reviews:1:rating'          b'0'           \n",
      "b'83622:reviews:1:source'          b'Foursquare'  \n",
      "b'83622:reviews:2:rating'          b'0'           \n",
      "b'83622:reviews:2:source'          b'Foursquare'  \n",
      "b'83622:reviews:3:rating'          b'0'           \n",
      "b'83622:reviews:3:source'          b'Foursquare'  \n",
      "b'83622:reviews:4:rating'          b'0'           \n",
      "b'83622:reviews:4:source'          b'Foursquare'  \n",
      "b'83622:reviews:5:rating'          b'0'           \n",
      "b'83622:reviews:5:source'          b'Foursquare'  \n",
      "b'83622:reviews:6:rating'          b'0'           \n",
      "b'83622:reviews:6:source'          b'Foursquare'  \n",
      "b'83622:reviews:7:rating'          b'0'           \n",
      "b'83622:reviews:7:source'          b'Foursquare'  \n",
      "b'83622:reviews:8:rating'          b'0'           \n",
      "b'83622:reviews:8:source'          b'Foursquare'  \n",
      "b'83622:reviews:9:rating'          b'0'           \n",
      "b'83622:reviews:9:source'          b'Foursquare'  \n"
     ]
    }
   ],
   "source": [
    "# setflat keys -- this gives the output in the requested format in .pdf file\n",
    "REDIS.flushdb()                                  # Flush database: clear old entries\n",
    "setflat_skeys(REDIS, new_entry, identity)\n",
    "\n",
    "for key in sorted(REDIS.keys(\"%s*\"%de['_id'])):  # Filter to this pattern\n",
    "    print(f\"{repr(key):35}{repr(REDIS.get(key)):15}\")"
   ]
  },
  {
   "cell_type": "markdown",
   "metadata": {},
   "source": [
    "# ANSWER 2:"
   ]
  },
  {
   "cell_type": "code",
   "execution_count": 40,
   "metadata": {},
   "outputs": [],
   "source": [
    "# Compute basic statistics\n",
    "import statistics\n",
    "def get_average_std():\n",
    "    ratings = [float(REDIS.get(k)) \n",
    "               for k in REDIS.keys(\"%s:reviews:*:rating\" % de['_id'])] \n",
    "    average = statistics.mean(ratings) #  mean\n",
    "    std = statistics.stdev(ratings) #  stddeviation\n",
    "    med= statistics.median(ratings) #median \n",
    "    mod= statistics.mode(ratings) # mode \n",
    "    return average, std , med , mod"
   ]
  },
  {
   "cell_type": "code",
   "execution_count": 41,
   "metadata": {},
   "outputs": [
    {
     "name": "stdout",
     "output_type": "stream",
     "text": [
      "Average, Std, med, mod: (0.0, 0.0, 0.0, 0.0)\n"
     ]
    }
   ],
   "source": [
    "print(\"Average, Std, med, mod:\", get_average_std())"
   ]
  },
  {
   "cell_type": "code",
   "execution_count": 39,
   "metadata": {},
   "outputs": [],
   "source": []
  },
  {
   "cell_type": "markdown",
   "metadata": {},
   "source": [
    "# ANSWER 3:"
   ]
  },
  {
   "cell_type": "code",
   "execution_count": null,
   "metadata": {},
   "outputs": [],
   "source": [
    "\n",
    "#from geopy.geocoders import Nominatim\n",
    "#geolocator = Nominatim(user_agent=\"specify_your_app_name_here\")\n",
    " #  location = geolocator.geocode(\"175 5th Avenue NYC\")\n",
    "#print(location.address)"
   ]
  },
  {
   "cell_type": "code",
   "execution_count": 42,
   "metadata": {},
   "outputs": [],
   "source": [
    "geolocator = Nominatim(user_agent=111)\n",
    "location = geolocator.geocode(\"175 5th Avenue NYC\")"
   ]
  },
  {
   "cell_type": "code",
   "execution_count": 43,
   "metadata": {},
   "outputs": [
    {
     "name": "stdout",
     "output_type": "stream",
     "text": [
      "Flatiron Building, 5th Avenue, Flatiron District, Manhattan, Manhattan Community Board 5, New York County, New York, 10010, United States of America\n",
      "(40.741059199999995, -73.98964162240998)\n",
      "{'place_id': 150272128, 'licence': 'Data © OpenStreetMap contributors, ODbL 1.0. https://osm.org/copyright', 'osm_type': 'way', 'osm_id': 264768896, 'boundingbox': ['40.7407597', '40.7413004', '-73.9898715', '-73.9895014'], 'lat': '40.741059199999995', 'lon': '-73.98964162240998', 'display_name': 'Flatiron Building, 5th Avenue, Flatiron District, Manhattan, Manhattan Community Board 5, New York County, New York, 10010, United States of America', 'class': 'tourism', 'type': 'attraction', 'importance': 0.6305988542685403, 'icon': 'https://nominatim.openstreetmap.org/images/mapicons/poi_point_of_interest.p.20.png'}\n"
     ]
    }
   ],
   "source": [
    "geolocator = Nominatim(user_agent=111)\n",
    "location = geolocator.geocode(\"175 5th Avenue NYC\")\n",
    "print(location.address)\n",
    "print((location.latitude, location.longitude))\n",
    "print(location.raw)\n"
   ]
  },
  {
   "cell_type": "code",
   "execution_count": null,
   "metadata": {},
   "outputs": [],
   "source": []
  }
 ],
 "metadata": {
  "kernelspec": {
   "display_name": "Python 3",
   "language": "python",
   "name": "python3"
  },
  "language_info": {
   "codemirror_mode": {
    "name": "ipython",
    "version": 3
   },
   "file_extension": ".py",
   "mimetype": "text/x-python",
   "name": "python",
   "nbconvert_exporter": "python",
   "pygments_lexer": "ipython3",
   "version": "3.8.8"
  }
 },
 "nbformat": 4,
 "nbformat_minor": 1
}
